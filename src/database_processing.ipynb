{
 "cells": [
  {
   "cell_type": "code",
   "execution_count": 1,
   "id": "28989520",
   "metadata": {},
   "outputs": [],
   "source": [
    "import pandas as pd\n",
    "from sqlalchemy import create_engine"
   ]
  },
  {
   "cell_type": "code",
   "execution_count": 2,
   "id": "3797f2da",
   "metadata": {},
   "outputs": [],
   "source": [
    "user = 'root'\n",
    "password = 'test'\n",
    "host = 'localhost'\n",
    "database = 'insightdb'"
   ]
  },
  {
   "cell_type": "code",
   "execution_count": 4,
   "id": "beda8bd7",
   "metadata": {},
   "outputs": [],
   "source": [
    "engine = create_engine(f'mysql+pymysql://{user}:{password}@{host}/{database}')"
   ]
  },
  {
   "cell_type": "code",
   "execution_count": 5,
   "id": "233412ac",
   "metadata": {},
   "outputs": [],
   "source": [
    "import mysql.connector"
   ]
  },
  {
   "cell_type": "code",
   "execution_count": 6,
   "id": "0c41fa2c",
   "metadata": {},
   "outputs": [],
   "source": [
    "mydb = mysql.connector.connect(\n",
    "  host=\"localhost\",\n",
    "  user=\"root\",\n",
    "  password=\"test\",\n",
    "  database=\"utdacademicdata\"\n",
    ")"
   ]
  },
  {
   "cell_type": "code",
   "execution_count": 7,
   "id": "34d246ac",
   "metadata": {},
   "outputs": [],
   "source": [
    "cursor = mydb.cursor()"
   ]
  },
  {
   "cell_type": "code",
   "execution_count": 15,
   "id": "511b0c5e",
   "metadata": {},
   "outputs": [],
   "source": [
    "cursor.execute(\"SET FOREIGN_KEY_CHECKS = 0;\")"
   ]
  },
  {
   "cell_type": "code",
   "execution_count": 77,
   "id": "030d2f78",
   "metadata": {},
   "outputs": [],
   "source": [
    "#cursor.execute(\"DROP TABLE courses\")\n",
    "cursor.execute(\"DROP TABLE professors\")\n",
    "# cursor.execute(\"DROP TABLE grades_by_professor\")\n",
    "# cursor.execute(\"DROP TABLE professor_course_mapping\")\n",
    "#cursor.execute(\"DROP TABLE profs_remarks\")"
   ]
  },
  {
   "cell_type": "code",
   "execution_count": 42,
   "id": "fe0ec72e",
   "metadata": {},
   "outputs": [
    {
     "ename": "ProgrammingError",
     "evalue": "1050 (42S01): Table 'courses' already exists",
     "output_type": "error",
     "traceback": [
      "\u001b[1;31m---------------------------------------------------------------------------\u001b[0m",
      "\u001b[1;31mMySQLInterfaceError\u001b[0m                       Traceback (most recent call last)",
      "File \u001b[1;32mc:\\Users\\shind\\AppData\\Local\\Programs\\Python\\Python312\\Lib\\site-packages\\mysql\\connector\\connection_cext.py:755\u001b[0m, in \u001b[0;36mCMySQLConnection.cmd_query\u001b[1;34m(self, query, raw, buffered, raw_as_string, **kwargs)\u001b[0m\n\u001b[0;32m    754\u001b[0m         query \u001b[38;5;241m=\u001b[39m query\u001b[38;5;241m.\u001b[39mencode(\u001b[38;5;124m\"\u001b[39m\u001b[38;5;124mutf-8\u001b[39m\u001b[38;5;124m\"\u001b[39m)\n\u001b[1;32m--> 755\u001b[0m     \u001b[38;5;28;43mself\u001b[39;49m\u001b[38;5;241;43m.\u001b[39;49m\u001b[43m_cmysql\u001b[49m\u001b[38;5;241;43m.\u001b[39;49m\u001b[43mquery\u001b[49m\u001b[43m(\u001b[49m\n\u001b[0;32m    756\u001b[0m \u001b[43m        \u001b[49m\u001b[43mquery\u001b[49m\u001b[43m,\u001b[49m\n\u001b[0;32m    757\u001b[0m \u001b[43m        \u001b[49m\u001b[43mraw\u001b[49m\u001b[38;5;241;43m=\u001b[39;49m\u001b[43mraw\u001b[49m\u001b[43m,\u001b[49m\n\u001b[0;32m    758\u001b[0m \u001b[43m        \u001b[49m\u001b[43mbuffered\u001b[49m\u001b[38;5;241;43m=\u001b[39;49m\u001b[43mbuffered\u001b[49m\u001b[43m,\u001b[49m\n\u001b[0;32m    759\u001b[0m \u001b[43m        \u001b[49m\u001b[43mraw_as_string\u001b[49m\u001b[38;5;241;43m=\u001b[39;49m\u001b[43mraw_as_string\u001b[49m\u001b[43m,\u001b[49m\n\u001b[0;32m    760\u001b[0m \u001b[43m        \u001b[49m\u001b[43mquery_attrs\u001b[49m\u001b[38;5;241;43m=\u001b[39;49m\u001b[38;5;28;43mself\u001b[39;49m\u001b[38;5;241;43m.\u001b[39;49m\u001b[43mquery_attrs\u001b[49m\u001b[43m,\u001b[49m\n\u001b[0;32m    761\u001b[0m \u001b[43m    \u001b[49m\u001b[43m)\u001b[49m\n\u001b[0;32m    762\u001b[0m \u001b[38;5;28;01mexcept\u001b[39;00m MySQLInterfaceError \u001b[38;5;28;01mas\u001b[39;00m err:\n",
      "\u001b[1;31mMySQLInterfaceError\u001b[0m: Table 'courses' already exists",
      "\nThe above exception was the direct cause of the following exception:\n",
      "\u001b[1;31mProgrammingError\u001b[0m                          Traceback (most recent call last)",
      "Cell \u001b[1;32mIn[42], line 1\u001b[0m\n\u001b[1;32m----> 1\u001b[0m \u001b[43mcursor\u001b[49m\u001b[38;5;241;43m.\u001b[39;49m\u001b[43mexecute\u001b[49m\u001b[43m(\u001b[49m\u001b[38;5;124;43m\"\u001b[39;49m\u001b[38;5;124;43mcreate table courses (course_id VARCHAR(255), title VARCHAR(255), class_level VARCHAR(255), PRIMARY KEY(course_id));\u001b[39;49m\u001b[38;5;124;43m\"\u001b[39;49m\u001b[43m)\u001b[49m\n",
      "File \u001b[1;32mc:\\Users\\shind\\AppData\\Local\\Programs\\Python\\Python312\\Lib\\site-packages\\mysql\\connector\\cursor_cext.py:351\u001b[0m, in \u001b[0;36mCMySQLCursor.execute\u001b[1;34m(self, operation, params, map_results)\u001b[0m\n\u001b[0;32m    343\u001b[0m \u001b[38;5;28mself\u001b[39m\u001b[38;5;241m.\u001b[39m_executed \u001b[38;5;241m=\u001b[39m (\n\u001b[0;32m    344\u001b[0m     \u001b[38;5;28mself\u001b[39m\u001b[38;5;241m.\u001b[39m_stmt_partition[\u001b[38;5;124m\"\u001b[39m\u001b[38;5;124msingle_stmts\u001b[39m\u001b[38;5;124m\"\u001b[39m]\u001b[38;5;241m.\u001b[39mpopleft()\n\u001b[0;32m    345\u001b[0m     \u001b[38;5;28;01mif\u001b[39;00m map_results\n\u001b[0;32m    346\u001b[0m     \u001b[38;5;28;01melse\u001b[39;00m \u001b[38;5;28mself\u001b[39m\u001b[38;5;241m.\u001b[39m_stmt_partition[\u001b[38;5;124m\"\u001b[39m\u001b[38;5;124mmappable_stmt\u001b[39m\u001b[38;5;124m\"\u001b[39m]\n\u001b[0;32m    347\u001b[0m )\n\u001b[0;32m    349\u001b[0m \u001b[38;5;28;01mtry\u001b[39;00m:\n\u001b[0;32m    350\u001b[0m     \u001b[38;5;28mself\u001b[39m\u001b[38;5;241m.\u001b[39m_handle_result(\n\u001b[1;32m--> 351\u001b[0m         \u001b[38;5;28;43mself\u001b[39;49m\u001b[38;5;241;43m.\u001b[39;49m\u001b[43m_connection\u001b[49m\u001b[38;5;241;43m.\u001b[39;49m\u001b[43mcmd_query\u001b[49m\u001b[43m(\u001b[49m\n\u001b[0;32m    352\u001b[0m \u001b[43m            \u001b[49m\u001b[38;5;28;43mself\u001b[39;49m\u001b[38;5;241;43m.\u001b[39;49m\u001b[43m_stmt_partition\u001b[49m\u001b[43m[\u001b[49m\u001b[38;5;124;43m\"\u001b[39;49m\u001b[38;5;124;43mmappable_stmt\u001b[39;49m\u001b[38;5;124;43m\"\u001b[39;49m\u001b[43m]\u001b[49m\u001b[43m,\u001b[49m\n\u001b[0;32m    353\u001b[0m \u001b[43m            \u001b[49m\u001b[43mraw\u001b[49m\u001b[38;5;241;43m=\u001b[39;49m\u001b[38;5;28;43mself\u001b[39;49m\u001b[38;5;241;43m.\u001b[39;49m\u001b[43m_raw\u001b[49m\u001b[43m,\u001b[49m\n\u001b[0;32m    354\u001b[0m \u001b[43m            \u001b[49m\u001b[43mbuffered\u001b[49m\u001b[38;5;241;43m=\u001b[39;49m\u001b[38;5;28;43mself\u001b[39;49m\u001b[38;5;241;43m.\u001b[39;49m\u001b[43m_buffered\u001b[49m\u001b[43m,\u001b[49m\n\u001b[0;32m    355\u001b[0m \u001b[43m            \u001b[49m\u001b[43mraw_as_string\u001b[49m\u001b[38;5;241;43m=\u001b[39;49m\u001b[38;5;28;43mself\u001b[39;49m\u001b[38;5;241;43m.\u001b[39;49m\u001b[43m_raw_as_string\u001b[49m\u001b[43m,\u001b[49m\n\u001b[0;32m    356\u001b[0m \u001b[43m        \u001b[49m\u001b[43m)\u001b[49m\n\u001b[0;32m    357\u001b[0m     )\n\u001b[0;32m    358\u001b[0m \u001b[38;5;28;01mexcept\u001b[39;00m MySQLInterfaceError \u001b[38;5;28;01mas\u001b[39;00m err:\n\u001b[0;32m    359\u001b[0m     \u001b[38;5;28;01mraise\u001b[39;00m get_mysql_exception(\n\u001b[0;32m    360\u001b[0m         msg\u001b[38;5;241m=\u001b[39merr\u001b[38;5;241m.\u001b[39mmsg, errno\u001b[38;5;241m=\u001b[39merr\u001b[38;5;241m.\u001b[39merrno, sqlstate\u001b[38;5;241m=\u001b[39merr\u001b[38;5;241m.\u001b[39msqlstate\n\u001b[0;32m    361\u001b[0m     ) \u001b[38;5;28;01mfrom\u001b[39;00m\u001b[38;5;250m \u001b[39m\u001b[38;5;21;01merr\u001b[39;00m\n",
      "File \u001b[1;32mc:\\Users\\shind\\AppData\\Local\\Programs\\Python\\Python312\\Lib\\site-packages\\mysql\\connector\\opentelemetry\\context_propagation.py:97\u001b[0m, in \u001b[0;36mwith_context_propagation.<locals>.wrapper\u001b[1;34m(cnx, *args, **kwargs)\u001b[0m\n\u001b[0;32m     95\u001b[0m \u001b[38;5;66;03m# pylint: disable=possibly-used-before-assignment\u001b[39;00m\n\u001b[0;32m     96\u001b[0m \u001b[38;5;28;01mif\u001b[39;00m \u001b[38;5;129;01mnot\u001b[39;00m OTEL_ENABLED \u001b[38;5;129;01mor\u001b[39;00m \u001b[38;5;129;01mnot\u001b[39;00m cnx\u001b[38;5;241m.\u001b[39motel_context_propagation:\n\u001b[1;32m---> 97\u001b[0m     \u001b[38;5;28;01mreturn\u001b[39;00m \u001b[43mmethod\u001b[49m\u001b[43m(\u001b[49m\u001b[43mcnx\u001b[49m\u001b[43m,\u001b[49m\u001b[43m \u001b[49m\u001b[38;5;241;43m*\u001b[39;49m\u001b[43margs\u001b[49m\u001b[43m,\u001b[49m\u001b[43m \u001b[49m\u001b[38;5;241;43m*\u001b[39;49m\u001b[38;5;241;43m*\u001b[39;49m\u001b[43mkwargs\u001b[49m\u001b[43m)\u001b[49m\n\u001b[0;32m     99\u001b[0m current_span \u001b[38;5;241m=\u001b[39m trace\u001b[38;5;241m.\u001b[39mget_current_span()\n\u001b[0;32m    100\u001b[0m tp_header \u001b[38;5;241m=\u001b[39m \u001b[38;5;28;01mNone\u001b[39;00m\n",
      "File \u001b[1;32mc:\\Users\\shind\\AppData\\Local\\Programs\\Python\\Python312\\Lib\\site-packages\\mysql\\connector\\connection_cext.py:763\u001b[0m, in \u001b[0;36mCMySQLConnection.cmd_query\u001b[1;34m(self, query, raw, buffered, raw_as_string, **kwargs)\u001b[0m\n\u001b[0;32m    755\u001b[0m     \u001b[38;5;28mself\u001b[39m\u001b[38;5;241m.\u001b[39m_cmysql\u001b[38;5;241m.\u001b[39mquery(\n\u001b[0;32m    756\u001b[0m         query,\n\u001b[0;32m    757\u001b[0m         raw\u001b[38;5;241m=\u001b[39mraw,\n\u001b[1;32m   (...)\u001b[0m\n\u001b[0;32m    760\u001b[0m         query_attrs\u001b[38;5;241m=\u001b[39m\u001b[38;5;28mself\u001b[39m\u001b[38;5;241m.\u001b[39mquery_attrs,\n\u001b[0;32m    761\u001b[0m     )\n\u001b[0;32m    762\u001b[0m \u001b[38;5;28;01mexcept\u001b[39;00m MySQLInterfaceError \u001b[38;5;28;01mas\u001b[39;00m err:\n\u001b[1;32m--> 763\u001b[0m     \u001b[38;5;28;01mraise\u001b[39;00m get_mysql_exception(\n\u001b[0;32m    764\u001b[0m         err\u001b[38;5;241m.\u001b[39merrno, msg\u001b[38;5;241m=\u001b[39merr\u001b[38;5;241m.\u001b[39mmsg, sqlstate\u001b[38;5;241m=\u001b[39merr\u001b[38;5;241m.\u001b[39msqlstate\n\u001b[0;32m    765\u001b[0m     ) \u001b[38;5;28;01mfrom\u001b[39;00m\u001b[38;5;250m \u001b[39m\u001b[38;5;21;01merr\u001b[39;00m\n\u001b[0;32m    766\u001b[0m \u001b[38;5;28;01mexcept\u001b[39;00m \u001b[38;5;167;01mAttributeError\u001b[39;00m \u001b[38;5;28;01mas\u001b[39;00m err:\n\u001b[0;32m    767\u001b[0m     addr \u001b[38;5;241m=\u001b[39m (\n\u001b[0;32m    768\u001b[0m         \u001b[38;5;28mself\u001b[39m\u001b[38;5;241m.\u001b[39m_unix_socket \u001b[38;5;28;01mif\u001b[39;00m \u001b[38;5;28mself\u001b[39m\u001b[38;5;241m.\u001b[39m_unix_socket \u001b[38;5;28;01melse\u001b[39;00m \u001b[38;5;124mf\u001b[39m\u001b[38;5;124m\"\u001b[39m\u001b[38;5;132;01m{\u001b[39;00m\u001b[38;5;28mself\u001b[39m\u001b[38;5;241m.\u001b[39m_host\u001b[38;5;132;01m}\u001b[39;00m\u001b[38;5;124m:\u001b[39m\u001b[38;5;132;01m{\u001b[39;00m\u001b[38;5;28mself\u001b[39m\u001b[38;5;241m.\u001b[39m_port\u001b[38;5;132;01m}\u001b[39;00m\u001b[38;5;124m\"\u001b[39m\n\u001b[0;32m    769\u001b[0m     )\n",
      "\u001b[1;31mProgrammingError\u001b[0m: 1050 (42S01): Table 'courses' already exists"
     ]
    }
   ],
   "source": [
    "cursor.execute(\"create table courses (course_id VARCHAR(255), title VARCHAR(255), class_level VARCHAR(255), PRIMARY KEY(course_id));\")"
   ]
  },
  {
   "cell_type": "code",
   "execution_count": 22,
   "id": "a51841ff",
   "metadata": {},
   "outputs": [],
   "source": [
    "courses_df = pd.read_sql_table('courses', engine)"
   ]
  },
  {
   "cell_type": "code",
   "execution_count": 25,
   "id": "e32ada85",
   "metadata": {},
   "outputs": [
    {
     "data": {
      "text/html": [
       "<div>\n",
       "<style scoped>\n",
       "    .dataframe tbody tr th:only-of-type {\n",
       "        vertical-align: middle;\n",
       "    }\n",
       "\n",
       "    .dataframe tbody tr th {\n",
       "        vertical-align: top;\n",
       "    }\n",
       "\n",
       "    .dataframe thead th {\n",
       "        text-align: right;\n",
       "    }\n",
       "</style>\n",
       "<table border=\"1\" class=\"dataframe\">\n",
       "  <thead>\n",
       "    <tr style=\"text-align: right;\">\n",
       "      <th></th>\n",
       "      <th>subject_prefix</th>\n",
       "      <th>course_number</th>\n",
       "      <th>title</th>\n",
       "      <th>class_level</th>\n",
       "      <th>course_id</th>\n",
       "    </tr>\n",
       "  </thead>\n",
       "  <tbody>\n",
       "    <tr>\n",
       "      <th>0</th>\n",
       "      <td>ACCT</td>\n",
       "      <td>2301</td>\n",
       "      <td>Introductory Financial Accounting</td>\n",
       "      <td>Undergraduate</td>\n",
       "      <td>ACCT2301</td>\n",
       "    </tr>\n",
       "    <tr>\n",
       "      <th>1</th>\n",
       "      <td>ACCT</td>\n",
       "      <td>2302</td>\n",
       "      <td>Introductory Management Accounting</td>\n",
       "      <td>Undergraduate</td>\n",
       "      <td>ACCT2302</td>\n",
       "    </tr>\n",
       "    <tr>\n",
       "      <th>2</th>\n",
       "      <td>ACCT</td>\n",
       "      <td>3100</td>\n",
       "      <td>Professional Development</td>\n",
       "      <td>Undergraduate</td>\n",
       "      <td>ACCT3100</td>\n",
       "    </tr>\n",
       "    <tr>\n",
       "      <th>3</th>\n",
       "      <td>ACCT</td>\n",
       "      <td>3101</td>\n",
       "      <td>Professional Program in Accounting Lyceum</td>\n",
       "      <td>Undergraduate</td>\n",
       "      <td>ACCT3101</td>\n",
       "    </tr>\n",
       "    <tr>\n",
       "      <th>4</th>\n",
       "      <td>ACCT</td>\n",
       "      <td>3200</td>\n",
       "      <td>Introduction to Business Professional Developm...</td>\n",
       "      <td>Undergraduate</td>\n",
       "      <td>ACCT3200</td>\n",
       "    </tr>\n",
       "  </tbody>\n",
       "</table>\n",
       "</div>"
      ],
      "text/plain": [
       "  subject_prefix course_number  \\\n",
       "0           ACCT          2301   \n",
       "1           ACCT          2302   \n",
       "2           ACCT          3100   \n",
       "3           ACCT          3101   \n",
       "4           ACCT          3200   \n",
       "\n",
       "                                               title    class_level course_id  \n",
       "0                  Introductory Financial Accounting  Undergraduate  ACCT2301  \n",
       "1                 Introductory Management Accounting  Undergraduate  ACCT2302  \n",
       "2                           Professional Development  Undergraduate  ACCT3100  \n",
       "3          Professional Program in Accounting Lyceum  Undergraduate  ACCT3101  \n",
       "4  Introduction to Business Professional Developm...  Undergraduate  ACCT3200  "
      ]
     },
     "execution_count": 25,
     "metadata": {},
     "output_type": "execute_result"
    }
   ],
   "source": [
    "courses_df['course_id'] = courses_df['subject_prefix'] + courses_df['course_number']\n",
    "courses_df.head()"
   ]
  },
  {
   "cell_type": "code",
   "execution_count": 26,
   "id": "5cf4f8e7",
   "metadata": {},
   "outputs": [],
   "source": [
    "courses_df.drop(['subject_prefix', 'course_number'], axis=1, inplace=True)"
   ]
  },
  {
   "cell_type": "code",
   "execution_count": 31,
   "id": "2cc17f9f",
   "metadata": {},
   "outputs": [],
   "source": [
    "sql = \"INSERT into courses(course_id, title, class_level) values(%s, %s, %s)\"\n",
    "for index, row in courses_df.iterrows():\n",
    "    val = (row['course_id'], row[\"title\"], row[\"class_level\"])\n",
    "    cursor.execute(sql, val)"
   ]
  },
  {
   "cell_type": "code",
   "execution_count": 120,
   "id": "26fe55f1",
   "metadata": {},
   "outputs": [],
   "source": [
    "cursor.execute(\"DROP TABLE professors\")\n"
   ]
  },
  {
   "cell_type": "code",
   "execution_count": 121,
   "id": "92cad6c8",
   "metadata": {},
   "outputs": [],
   "source": [
    "cursor.execute(\"create table professors (id VARCHAR(255) NOT NULL, name VARCHAR(255) NOT NULL, email VARCHAR(255), phone_number VARCHAR(255), PRIMARY KEY(name));\")"
   ]
  },
  {
   "cell_type": "code",
   "execution_count": 34,
   "id": "d73272ec",
   "metadata": {},
   "outputs": [],
   "source": [
    "professors_df = pd.read_sql_table('professors', engine)"
   ]
  },
  {
   "cell_type": "code",
   "execution_count": 51,
   "id": "f8f0990a",
   "metadata": {},
   "outputs": [],
   "source": [
    "professors_df['profFirst'] = professors_df['profFirst'].astype('str')\n",
    "professors_df['profLast'] = professors_df['profLast'].astype('str')"
   ]
  },
  {
   "cell_type": "code",
   "execution_count": 112,
   "id": "89f2f639",
   "metadata": {},
   "outputs": [],
   "source": [
    "professors_df.drop(3318, inplace=True)"
   ]
  },
  {
   "cell_type": "code",
   "execution_count": 119,
   "id": "eb493aa7",
   "metadata": {},
   "outputs": [],
   "source": [
    "professors_df['name'] = professors_df['profFirst'] + professors_df['profLast']\n",
    "professors_df.drop(['profFirst', 'profLast'], axis=1, inplace=True)"
   ]
  },
  {
   "cell_type": "code",
   "execution_count": 57,
   "id": "f597cf66",
   "metadata": {},
   "outputs": [],
   "source": [
    "professors_df.drop_duplicates(subset=['profFirst', 'profLast'], inplace=True)"
   ]
  },
  {
   "cell_type": "code",
   "execution_count": 122,
   "id": "89bbfc5a",
   "metadata": {},
   "outputs": [],
   "source": [
    "sql = \"INSERT into professors(id, name, email, phone_number) values(%s, %s, %s, %s)\"\n",
    "for index, row in professors_df.iterrows():\n",
    "    val = (row[\"professorId\"], row[\"name\"], row[\"email\"], row['phone_number'])\n",
    "    cursor.execute(sql, val)"
   ]
  },
  {
   "cell_type": "code",
   "execution_count": 130,
   "id": "b8980097",
   "metadata": {},
   "outputs": [],
   "source": [
    "cursor.execute(\"DROP TABLE grades\")\n"
   ]
  },
  {
   "cell_type": "code",
   "execution_count": 131,
   "id": "ee0ce466",
   "metadata": {},
   "outputs": [],
   "source": [
    "cursor.execute(\"create table grades (prof_name VARCHAR(255) NOT NULL, course_id VARCHAR(255) NOT NULL, term VARCHAR(255) NOT NULL, Aplus int, A int, Aminus int, Bplus int, B int, Bminus int, Cplus int, C int, Cminus int, Dplus int, D int, Dminus int, F int, W int, PRIMARY KEY(prof_name, course_id, term), FOREIGN KEY (prof_name) References professors(name), FOREIGN KEY (course_id) references courses(course_id));\")"
   ]
  },
  {
   "cell_type": "code",
   "execution_count": 124,
   "id": "37bbd0b4",
   "metadata": {},
   "outputs": [],
   "source": [
    "grades_df = pd.read_sql_table('grades_by_professor', engine)"
   ]
  },
  {
   "cell_type": "code",
   "execution_count": 126,
   "id": "c0ab3252",
   "metadata": {},
   "outputs": [],
   "source": [
    "grades_df['prof_name'] = grades_df['profFirst'] + grades_df['profLast']\n",
    "grades_df['course_id'] = grades_df['subject_prefix'] + grades_df['course_number']"
   ]
  },
  {
   "cell_type": "code",
   "execution_count": 127,
   "id": "d7425d90",
   "metadata": {},
   "outputs": [],
   "source": [
    "grades_df = grades_df[grades_df['prof_name'].isin(professors_df['name'])]"
   ]
  },
  {
   "cell_type": "code",
   "execution_count": 136,
   "id": "6f86418d",
   "metadata": {},
   "outputs": [],
   "source": [
    "sql = \"INSERT into grades(prof_name, course_id, term, Aplus, A, Aminus, Bplus, B, Bminus, Cplus, C, Cminus, Dplus, D, Dminus, F, W) values(%s, %s, %s, %s, %s, %s, %s, %s, %s, %s, %s, %s, %s, %s, %s, %s, %s)\"\n",
    "for index, row in grades_df.iterrows():\n",
    "    val = (row[\"prof_name\"], row['course_id'], row[\"term\"], row['A+'], row[\"A\"], row[\"A-\"], row[\"B+\"], row[\"B\"], row[\"B-\"], row[\"C+\"], row[\"C\"], row[\"C-\"], row[\"D+\"], row[\"D\"], row[\"D-\"], row[\"F\"], row[\"W\"])\n",
    "    cursor.execute(sql, val)"
   ]
  },
  {
   "cell_type": "code",
   "execution_count": 153,
   "id": "037547da",
   "metadata": {},
   "outputs": [],
   "source": [
    "cursor.execute('DROP table professor_remarks')"
   ]
  },
  {
   "cell_type": "code",
   "execution_count": 154,
   "id": "109d2986",
   "metadata": {},
   "outputs": [],
   "source": [
    "cursor.execute(\"create table professor_remarks (prof_name VARCHAR(255) NOT NULL, avg_difficulty double, avg_rating double, department VARCHAR(255), total_rating int, r1 int, r2 int, r3 int, r4 int, r5 int, tags TEXT, would_take_again double, PRIMARY KEY(prof_name), FOREIGN KEY(prof_name) References professors(name));\")"
   ]
  },
  {
   "cell_type": "code",
   "execution_count": 139,
   "id": "b5e1da28",
   "metadata": {},
   "outputs": [],
   "source": [
    "remarks_df = pd.read_sql_table('profs_remarks', engine)"
   ]
  },
  {
   "cell_type": "code",
   "execution_count": 140,
   "id": "e4ef3619",
   "metadata": {},
   "outputs": [],
   "source": [
    "remarks_df['prof_name'] = remarks_df['profFirst'] + remarks_df['profLast']"
   ]
  },
  {
   "cell_type": "code",
   "execution_count": 155,
   "id": "259e7e35",
   "metadata": {},
   "outputs": [],
   "source": [
    "sql = \"INSERT into professor_remarks(prof_name, avg_difficulty, avg_rating, department, total_rating, r1, r2, r3, r4, r5, tags, would_take_again) values(%s, %s, %s, %s, %s, %s, %s, %s, %s,%s, %s, %s)\"\n",
    "for index, row in remarks_df.iterrows():\n",
    "    val = (row[\"prof_name\"], row[\"avgDifficulty\"], row[\"avgRating\"], row['department'], row['totalRatings'], row['r1'], row['r2'], row['r3'], row['r4'], row['r5'], row['professorTags'], row['wouldTakeAgainPercent'])\n",
    "    cursor.execute(sql, val)"
   ]
  },
  {
   "cell_type": "code",
   "execution_count": 152,
   "id": "d39686ee",
   "metadata": {},
   "outputs": [],
   "source": [
    "remarks_df['prof_name'] = remarks_df['prof_name'].astype('str')\n",
    "remarks_df.drop_duplicates(subset='prof_name', inplace=True) "
   ]
  },
  {
   "cell_type": "code",
   "execution_count": 156,
   "id": "e0f5149d",
   "metadata": {},
   "outputs": [
    {
     "data": {
      "text/plain": [
       "True"
      ]
     },
     "execution_count": 156,
     "metadata": {},
     "output_type": "execute_result"
    }
   ],
   "source": [
    "cursor.close()"
   ]
  },
  {
   "cell_type": "code",
   "execution_count": 157,
   "id": "37adb114",
   "metadata": {},
   "outputs": [],
   "source": [
    "mydb.commit()\n",
    "mydb.close()"
   ]
  },
  {
   "cell_type": "code",
   "execution_count": null,
   "id": "86844c7e",
   "metadata": {},
   "outputs": [],
   "source": []
  }
 ],
 "metadata": {
  "kernelspec": {
   "display_name": "Python 3",
   "language": "python",
   "name": "python3"
  },
  "language_info": {
   "codemirror_mode": {
    "name": "ipython",
    "version": 3
   },
   "file_extension": ".py",
   "mimetype": "text/x-python",
   "name": "python",
   "nbconvert_exporter": "python",
   "pygments_lexer": "ipython3",
   "version": "3.12.9"
  }
 },
 "nbformat": 4,
 "nbformat_minor": 5
}
